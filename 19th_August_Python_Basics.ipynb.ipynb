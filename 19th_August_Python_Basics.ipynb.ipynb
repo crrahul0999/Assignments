{
 "cells": [
  {
   "cell_type": "code",
   "execution_count": 2,
   "metadata": {},
   "outputs": [
    {
     "name": "stdout",
     "output_type": "stream",
     "text": [
      "After swapping:\n",
      "x = 10\n",
      "y = 5\n"
     ]
    }
   ],
   "source": [
    "#Python Basics Variable\n",
    "#Declare two variables, `x` and `y`, and assign them integer values. Swap the\n",
    "#values of these variables without using any temporary variable.\n",
    "x = 5\n",
    "y = 10\n",
    "\n",
    "x, y = y, x\n",
    "\n",
    "print(\"After swapping:\")\n",
    "print(\"x =\", x)\n",
    "print(\"y =\", y)\n"
   ]
  },
  {
   "cell_type": "code",
   "execution_count": 3,
   "metadata": {},
   "outputs": [
    {
     "name": "stdout",
     "output_type": "stream",
     "text": [
      "enter the length10\n",
      "enter the width20\n",
      "Area of the rectangle is 200.0\n"
     ]
    }
   ],
   "source": [
    "#Create a program that calculates the area of a rectangle. Take the length and\n",
    "#width as inputs from the user and store them in variables. Calculate and\n",
    "#display the area.\n",
    "\n",
    "a=float(input(\"enter the length\"))\n",
    "b=float(input(\"enter the width\"))\n",
    "Area=a*b\n",
    "print(\"Area of the rectangle is\",Area)\n"
   ]
  },
  {
   "cell_type": "code",
   "execution_count": 4,
   "metadata": {},
   "outputs": [
    {
     "name": "stdout",
     "output_type": "stream",
     "text": [
      "Enter the Temperature in Celsius to convert to Fahrenheit10\n",
      "The Temperature in Fahrenheit is 50.0\n"
     ]
    }
   ],
   "source": [
    "#Write a Python program that converts temperatures from Celsius to\n",
    "#Fahrenheit. Take the temperature in Celsius as input, store it in a variable,\n",
    "#convert it to Fahrenheit, and display the result.\n",
    "\n",
    "a=int(input(\"Enter the Temperature in Celsius to convert to Fahrenheit\"))\n",
    "b=(a*(9/5)+32)\n",
    "print(\"The Temperature in Fahrenheit is\", b)"
   ]
  },
  {
   "cell_type": "code",
   "execution_count": 1,
   "metadata": {},
   "outputs": [
    {
     "name": "stdout",
     "output_type": "stream",
     "text": [
      "Enter a string to calculate the length: rahul\n",
      "The length of the string is 5\n"
     ]
    }
   ],
   "source": [
    "#Write a Python program that takes a string as input and prints the length of\n",
    "#the string.\n",
    "\n",
    "user_input = input(\"Enter a string to calculate the length: \")\n",
    "string_length = len(user_input)\n",
    "print(\"The length of the string is\", string_length)\n"
   ]
  },
  {
   "cell_type": "code",
   "execution_count": 5,
   "metadata": {},
   "outputs": [
    {
     "name": "stdout",
     "output_type": "stream",
     "text": [
      "Enter a sentence to count vowels:rahul\n",
      "Number of vowels in the sentence: 2\n"
     ]
    }
   ],
   "source": [
    "# Get a sentence from the user\n",
    "sentence = input(\"Enter a sentence to count vowels:\")\n",
    "\n",
    "# Initialize a variable to count vowels\n",
    "vowel_count = 0\n",
    "\n",
    "# Define a set of vowels to check against\n",
    "vowels = \"aeiouAEIOU\"\n",
    "\n",
    "# Iterate through each character in the sentence\n",
    "for char in sentence:\n",
    "    # Check if the character is a vowel\n",
    "    if char in vowels:\n",
    "        vowel_count += 1\n",
    "\n",
    "# Print the result\n",
    "print(\"Number of vowels in the sentence:\", vowel_count)\n"
   ]
  },
  {
   "cell_type": "code",
   "execution_count": 8,
   "metadata": {},
   "outputs": [
    {
     "name": "stdout",
     "output_type": "stream",
     "text": [
      "enter the string to reverse the charactersrahul\n",
      "The reversed String is luhar\n"
     ]
    }
   ],
   "source": [
    "#Given a string, reverse the order of characters using string slicing and print\n",
    "#the reversed string.\n",
    "# Get a string from the user\n",
    "original_string = input(\"Enter a string: \")\n",
    "\n",
    "# Reverse the string using slicing\n",
    "reversed_string = original_string[::-1]\n",
    "\n",
    "# Print the reversed string\n",
    "print(\"Reversed string:\", reversed_string)\n"
   ]
  },
  {
   "cell_type": "code",
   "execution_count": 11,
   "metadata": {},
   "outputs": [
    {
     "name": "stdout",
     "output_type": "stream",
     "text": [
      "Enter a string: malayalam\n",
      "The input string is a palindrome.\n"
     ]
    }
   ],
   "source": [
    "#Write a program that takes a string as input and checks if it is a palindrome\n",
    "#(reads the same forwards and backwards).\n",
    "\n",
    "# Get a string from the user\n",
    "original_string = input(\"Enter a string: \")\n",
    "\n",
    "# Remove spaces and convert to lowercase for case-insensitive comparison\n",
    "original_string = original_string.replace(\" \", \"\").lower()\n",
    "\n",
    "# Reverse the string\n",
    "reversed_string = original_string[::-1]\n",
    "\n",
    "# Check if the original and reversed strings are the same\n",
    "if original_string == reversed_string:\n",
    "    print(\"The input string is a palindrome.\")\n",
    "else:\n",
    "    print(\"The input string is not a palindrome.\")\n"
   ]
  },
  {
   "cell_type": "code",
   "execution_count": 16,
   "metadata": {},
   "outputs": [
    {
     "name": "stdout",
     "output_type": "stream",
     "text": [
      "Enter a string: Rahul cr\n",
      "Modified string without spaces: Rahulcr\n"
     ]
    }
   ],
   "source": [
    "#Create a program that takes a string as input and removes all the spaces from\n",
    "#it. Print the modified string without spaces.\n",
    "\n",
    "# Get a string from the user\n",
    "input_string = input(\"Enter a string: \")\n",
    "\n",
    "# Remove spaces from the input string\n",
    "modified_string = input_string.replace(\" \", \"\")\n",
    "\n",
    "# Print the modified string without spaces\n",
    "print(\"Modified string without spaces:\", modified_string)\n",
    "\n"
   ]
  },
  {
   "cell_type": "code",
   "execution_count": null,
   "metadata": {},
   "outputs": [],
   "source": []
  }
 ],
 "metadata": {
  "kernelspec": {
   "display_name": "Python 3",
   "language": "python",
   "name": "python3"
  },
  "language_info": {
   "codemirror_mode": {
    "name": "ipython",
    "version": 3
   },
   "file_extension": ".py",
   "mimetype": "text/x-python",
   "name": "python",
   "nbconvert_exporter": "python",
   "pygments_lexer": "ipython3",
   "version": "3.7.1"
  }
 },
 "nbformat": 4,
 "nbformat_minor": 2
}
